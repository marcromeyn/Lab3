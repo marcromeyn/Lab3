{
 "cells": [
  {
   "cell_type": "markdown",
   "metadata": {},
   "source": [
    "# Lab 3: Bayes Classifier and Boosting"
   ]
  },
  {
   "cell_type": "markdown",
   "metadata": {},
   "source": [
    "## Jupyter notebooks\n",
    "\n",
    "In this lab, you can use Jupyter <https://jupyter.org/> to get a nice layout of your code and plots in one document. However, you may also use Python as usual, without Jupyter.\n",
    "\n",
    "If you have Python and pip, you can install Jupyter with `sudo pip install jupyter`. Otherwise you can follow the instruction on <http://jupyter.readthedocs.org/en/latest/install.html>.\n",
    "\n",
    "And that is everything you need! Now use a terminal to go into the folder with the provided lab files. Then run `jupyter notebook` to start a session in that folder. Click `lab3.ipynb` in the browser window that appeared to start this very notebook. You should click on the cells in order and either press `ctrl+enter` or `run cell` in the toolbar above to evaluate all the expressions.\n",
    "\n",
    "Be sure to put `%matplotlib inline` at the top of every code cell where you call plotting functions to get the resulting plots inside the document."
   ]
  },
  {
   "cell_type": "markdown",
   "metadata": {},
   "source": [
    "## Import the libraries\n",
    "\n",
    "In Jupyter, select the cell below and press `ctrl + enter` to import the needed libraries.\n",
    "Check out `labfuns.py` if you are interested in the details."
   ]
  },
  {
   "cell_type": "code",
   "execution_count": 4,
   "metadata": {
    "collapsed": false
   },
   "outputs": [],
   "source": [
    "import numpy as np\n",
    "import collections\n",
    "from scipy import misc\n",
    "from imp import reload\n",
    "from labfuns import *\n",
    "from sklearn import decomposition\n",
    "from matplotlib.colors import ColorConverter"
   ]
  },
  {
   "cell_type": "markdown",
   "metadata": {},
   "source": [
    "## Bayes classifier functions to implement\n",
    "\n",
    "The lab descriptions state what each function should do."
   ]
  },
  {
   "cell_type": "code",
   "execution_count": 47,
   "metadata": {
    "collapsed": false
   },
   "outputs": [],
   "source": [
    "# Note that you do not need to handle the W argument for this part\n",
    "# in: labels - N x 1 vector of class labels\n",
    "# out: prior - C x 1 vector of class priors\n",
    "def computePrior(labels,W=None):\n",
    "    if W != None:\n",
    "        priors = collections.defaultdict(float)\n",
    "        for l, w in zip(labels, W):\n",
    "            priors[l] += w\n",
    "        return list(priors.values())\n",
    "    else:\n",
    "        return np.bincount(labels.astype(int)) / float(len(labels))\n",
    "\n",
    "# Note that you do not need to handle the W argument for this part\n",
    "# in:      X - N x d matrix of N data points\n",
    "#     labels - N x 1 vector of class labels\n",
    "# out:    mu - C x d matrix of class means\n",
    "#      sigma - d x d x C matrix of class covariances\n",
    "def mlParams(X,labels,W=None):\n",
    "    N = len(X)\n",
    "    d = len(X[0])\n",
    "    classes = np.unique(labels)\n",
    "    C = len(classes)    \n",
    "    if W != None:\n",
    "        mu = np.zeros((C,d))\n",
    "        sum_W = collections.defaultdict(float)\n",
    "        for x, label, w in zip(X, labels, W):\n",
    "            mu[label] = np.add(mu[label], np.multiply(x, w))\n",
    "            sum_W[label] += w\n",
    "        for i in range(0, C):\n",
    "            mu[i] = mu[i] / sum_W[i]\n",
    "            \n",
    "        sigma = np.zeros((d, d, C))\n",
    "        for x, label, weight in zip(X, labels, W):\n",
    "            xu = np.subtract(x, mu[label])\n",
    "            sigma[:,:,label] = np.add(sigma[:,:,label], np.multiply(np.outer(xu, xu), w))\n",
    "        for i in range(0, C):\n",
    "            sigma[:,:,i] = np.divide(sigma[:,:,i], sum_W[i])\n",
    "        \n",
    "    else:\n",
    "        class_members = [labels==c for c in classes]\n",
    "\n",
    "        mu = np.zeros((C, d))\n",
    "        for c in classes:\n",
    "            members = X[class_members[int(c)], :]\n",
    "            N = len(members)\n",
    "            mu[c] = np.divide(members.sum(axis=0), N)\n",
    "\n",
    "        sigma = np.zeros((d, d, C))\n",
    "        for c in classes:\n",
    "            members = X[class_members[int(c)], :]\n",
    "            N = len(members)\n",
    "            from_mean = np.subtract(members, mu[c])\n",
    "            for el in from_mean:\n",
    "                dot = np.outer(el, el)\n",
    "                sigma[:, :, c] += np.divide(dot, N)\n",
    "    \n",
    "    return mu, sigma\n",
    "\n",
    "def solve(A, b):\n",
    "    L = np.linalg.cholesky(A)\n",
    "    y = np.linalg.solve(L, b)\n",
    "    x = np.linalg.solve(np.transpose(L), y)\n",
    "    \n",
    "    return x\n",
    "\n",
    "# first = True\n",
    "# in:      X - N x d matrix of M data points\n",
    "#      prior - C x 1 vector of class priors\n",
    "#         mu - C x d matrix of class means\n",
    "#      sigma - d x d x C matrix of class covariances\n",
    "# out:     h - N x 1 class predictions for test points\n",
    "def classify(X,prior,mu,sigma,covdiag=True):\n",
    "    #TODO: Add covdiag (Assignment 2.3)\n",
    "    N = len(X)\n",
    "    d = len(X[0])\n",
    "    C = len(prior)\n",
    "    h = np.zeros(N)\n",
    "    \n",
    "    for x_i, x in enumerate(X):\n",
    "        cls = 0\n",
    "        cls_prob = 0\n",
    "        for c in range(0, C):\n",
    "\n",
    "            xu = np.array(np.subtract(x, mu[c])).transpose()\n",
    "            S_k = sigma[:, :, c]\n",
    "\n",
    "            if covdiag:\n",
    "                S_k = np.diag(np.diag(S_k))\n",
    "                inverse = np.linalg.inv(S_k)\n",
    "                inner = np.inner(xu.flatten(), inverse)\n",
    "                second = np.inner(np.inner(xu.flatten(), inverse) ,xu.flatten())\n",
    "                first =  np.log(np.linalg.det(sigma[:,:,c]))\n",
    "            else:\n",
    "#                 try:\n",
    "                inverse = solve(S_k, xu)\n",
    "#                 except Error:\n",
    "#                     inverse = np.inner(np.linalg.inv(S_k), xu)\n",
    "                second = np.inner(xu.flatten(), inverse)\n",
    "                first = 2 * sum([np.log(S_k[i,i]) for i in range(0, d)])\n",
    "\n",
    "            third = np.log(prior[c])\n",
    "            prob = -0.5*first - 0.5*second + third\n",
    "            if prob > cls_prob:\n",
    "                cls_prob = prob\n",
    "                cls = c\n",
    "            \n",
    "            h[x_i] = cls\n",
    "    \n",
    "    return h\n"
   ]
  },
  {
   "cell_type": "markdown",
   "metadata": {},
   "source": [
    "## Test the Maximum Likelihood estimates\n",
    "\n",
    "Call `genBlobs` and `plotGaussian` to verify your estimates."
   ]
  },
  {
   "cell_type": "code",
   "execution_count": 48,
   "metadata": {
    "collapsed": false
   },
   "outputs": [
    {
     "data": {
      "image/png": "[encoded data removed]",
      "text/plain": [
       "<matplotlib.figure.Figure at 0x10ed92cd0>"
      ]
     },
     "metadata": {},
     "output_type": "display_data"
    }
   ],
   "source": [
    "%matplotlib inline\n",
    "\n",
    "X, labels = genBlobs(centers=5)\n",
    "mu, sigma = mlParams(X,labels)\n",
    "plotGaussian(X,labels,mu,sigma)"
   ]
  },
  {
   "cell_type": "code",
   "execution_count": 49,
   "metadata": {
    "collapsed": false
   },
   "outputs": [
    {
     "name": "stdout",
     "output_type": "stream",
     "text": [
      "Output for dataset wine with covdiag=True\n",
      "Final mean classification accuracy  40.9056603774 with standard deviation 2.6667259991\n",
      "Output for dataset wine with covdiag=False\n",
      "Final mean classification accuracy  34.8113207547 with standard deviation 1.2336506444\n",
      "Output for dataset iris with covdiag=True\n",
      "Final mean classification accuracy  89.1555555556 with standard deviation 4.3804278499\n",
      "Output for dataset iris with covdiag=False\n",
      "Final mean classification accuracy  95.3111111111 with standard deviation 2.62739602583\n",
      "Output for dataset olivetti with covdiag=True\n"
     ]
    },
    {
     "name": "stderr",
     "output_type": "stream",
     "text": [
      "/Users/jan/Envs/skillable/lib/python2.7/site-packages/ipykernel/__main__.py:46: DeprecationWarning: using a non-integer number instead of an integer will result in an error in the future\n",
      "/Users/jan/Envs/skillable/lib/python2.7/site-packages/ipykernel/__main__.py:52: DeprecationWarning: using a non-integer number instead of an integer will result in an error in the future\n",
      "/Users/jan/Envs/skillable/lib/python2.7/site-packages/ipykernel/__main__.py:55: DeprecationWarning: using a non-integer number instead of an integer will result in an error in the future\n"
     ]
    },
    {
     "ename": "KeyboardInterrupt",
     "evalue": "",
     "output_type": "error",
     "traceback": [
      "\u001b[0;31m---------------------------------------------------------------------------\u001b[0m",
      "\u001b[0;31mKeyboardInterrupt\u001b[0m                         Traceback (most recent call last)",
      "\u001b[0;32m<ipython-input-49-367c3fb9d340>\u001b[0m in \u001b[0;36m<module>\u001b[0;34m()\u001b[0m\n\u001b[1;32m      3\u001b[0m     \u001b[0;32mfor\u001b[0m \u001b[0mcovdiag\u001b[0m \u001b[0;32min\u001b[0m \u001b[0;34m[\u001b[0m\u001b[0mTrue\u001b[0m\u001b[0;34m,\u001b[0m\u001b[0mFalse\u001b[0m\u001b[0;34m]\u001b[0m\u001b[0;34m:\u001b[0m\u001b[0;34m\u001b[0m\u001b[0m\n\u001b[1;32m      4\u001b[0m         \u001b[0;32mprint\u001b[0m \u001b[0;34m'Output for dataset %s with covdiag=%s'\u001b[0m \u001b[0;34m%\u001b[0m \u001b[0;34m(\u001b[0m\u001b[0mdataset\u001b[0m\u001b[0;34m,\u001b[0m \u001b[0mcovdiag\u001b[0m\u001b[0;34m)\u001b[0m\u001b[0;34m\u001b[0m\u001b[0m\n\u001b[0;32m----> 5\u001b[0;31m         \u001b[0mtestClassifier\u001b[0m\u001b[0;34m(\u001b[0m\u001b[0mdataset\u001b[0m\u001b[0;34m=\u001b[0m\u001b[0mdataset\u001b[0m\u001b[0;34m,\u001b[0m \u001b[0mcovdiag\u001b[0m\u001b[0;34m=\u001b[0m\u001b[0mcovdiag\u001b[0m\u001b[0;34m)\u001b[0m\u001b[0;34m\u001b[0m\u001b[0m\n\u001b[0m",
      "\u001b[0;32m<ipython-input-18-6f6ae845d8af>\u001b[0m in \u001b[0;36mtestClassifier\u001b[0;34m(dataset, dim, split, doboost, boostiter, covdiag, ntrials)\u001b[0m\n\u001b[1;32m     34\u001b[0m             \u001b[0mmu\u001b[0m\u001b[0;34m,\u001b[0m \u001b[0msigma\u001b[0m \u001b[0;34m=\u001b[0m \u001b[0mmlParams\u001b[0m\u001b[0;34m(\u001b[0m\u001b[0mxTr\u001b[0m\u001b[0;34m,\u001b[0m\u001b[0myTr\u001b[0m\u001b[0;34m)\u001b[0m\u001b[0;34m\u001b[0m\u001b[0m\n\u001b[1;32m     35\u001b[0m             \u001b[0;31m# Predict\u001b[0m\u001b[0;34m\u001b[0m\u001b[0;34m\u001b[0m\u001b[0m\n\u001b[0;32m---> 36\u001b[0;31m             \u001b[0myPr\u001b[0m \u001b[0;34m=\u001b[0m \u001b[0mclassify\u001b[0m\u001b[0;34m(\u001b[0m\u001b[0mxTe\u001b[0m\u001b[0;34m,\u001b[0m\u001b[0mprior\u001b[0m\u001b[0;34m,\u001b[0m\u001b[0mmu\u001b[0m\u001b[0;34m,\u001b[0m\u001b[0msigma\u001b[0m\u001b[0;34m,\u001b[0m\u001b[0mcovdiag\u001b[0m\u001b[0;34m=\u001b[0m\u001b[0mcovdiag\u001b[0m\u001b[0;34m)\u001b[0m\u001b[0;34m\u001b[0m\u001b[0m\n\u001b[0m\u001b[1;32m     37\u001b[0m \u001b[0;34m\u001b[0m\u001b[0m\n\u001b[1;32m     38\u001b[0m         \u001b[0;31m# Compute classification error\u001b[0m\u001b[0;34m\u001b[0m\u001b[0;34m\u001b[0m\u001b[0m\n",
      "\u001b[0;32m<ipython-input-47-aa147ecf36ae>\u001b[0m in \u001b[0;36mclassify\u001b[0;34m(X, prior, mu, sigma, covdiag)\u001b[0m\n\u001b[1;32m     87\u001b[0m             \u001b[0;32mif\u001b[0m \u001b[0mcovdiag\u001b[0m\u001b[0;34m:\u001b[0m\u001b[0;34m\u001b[0m\u001b[0m\n\u001b[1;32m     88\u001b[0m                 \u001b[0mS_k\u001b[0m \u001b[0;34m=\u001b[0m \u001b[0mnp\u001b[0m\u001b[0;34m.\u001b[0m\u001b[0mdiag\u001b[0m\u001b[0;34m(\u001b[0m\u001b[0mnp\u001b[0m\u001b[0;34m.\u001b[0m\u001b[0mdiag\u001b[0m\u001b[0;34m(\u001b[0m\u001b[0mS_k\u001b[0m\u001b[0;34m)\u001b[0m\u001b[0;34m)\u001b[0m\u001b[0;34m\u001b[0m\u001b[0m\n\u001b[0;32m---> 89\u001b[0;31m                 \u001b[0minverse\u001b[0m \u001b[0;34m=\u001b[0m \u001b[0mnp\u001b[0m\u001b[0;34m.\u001b[0m\u001b[0mlinalg\u001b[0m\u001b[0;34m.\u001b[0m\u001b[0minv\u001b[0m\u001b[0;34m(\u001b[0m\u001b[0mS_k\u001b[0m\u001b[0;34m)\u001b[0m\u001b[0;34m\u001b[0m\u001b[0m\n\u001b[0m\u001b[1;32m     90\u001b[0m                 \u001b[0minner\u001b[0m \u001b[0;34m=\u001b[0m \u001b[0mnp\u001b[0m\u001b[0;34m.\u001b[0m\u001b[0minner\u001b[0m\u001b[0;34m(\u001b[0m\u001b[0mxu\u001b[0m\u001b[0;34m.\u001b[0m\u001b[0mflatten\u001b[0m\u001b[0;34m(\u001b[0m\u001b[0;34m)\u001b[0m\u001b[0;34m,\u001b[0m \u001b[0minverse\u001b[0m\u001b[0;34m)\u001b[0m\u001b[0;34m\u001b[0m\u001b[0m\n\u001b[1;32m     91\u001b[0m                 \u001b[0msecond\u001b[0m \u001b[0;34m=\u001b[0m \u001b[0mnp\u001b[0m\u001b[0;34m.\u001b[0m\u001b[0minner\u001b[0m\u001b[0;34m(\u001b[0m\u001b[0mnp\u001b[0m\u001b[0;34m.\u001b[0m\u001b[0minner\u001b[0m\u001b[0;34m(\u001b[0m\u001b[0mxu\u001b[0m\u001b[0;34m.\u001b[0m\u001b[0mflatten\u001b[0m\u001b[0;34m(\u001b[0m\u001b[0;34m)\u001b[0m\u001b[0;34m,\u001b[0m \u001b[0minverse\u001b[0m\u001b[0;34m)\u001b[0m \u001b[0;34m,\u001b[0m\u001b[0mxu\u001b[0m\u001b[0;34m.\u001b[0m\u001b[0mflatten\u001b[0m\u001b[0;34m(\u001b[0m\u001b[0;34m)\u001b[0m\u001b[0;34m)\u001b[0m\u001b[0;34m\u001b[0m\u001b[0m\n",
      "\u001b[0;32m/Users/jan/Envs/skillable/lib/python2.7/site-packages/numpy/linalg/linalg.pyc\u001b[0m in \u001b[0;36minv\u001b[0;34m(a)\u001b[0m\n\u001b[1;32m    515\u001b[0m     \u001b[0ma\u001b[0m\u001b[0;34m,\u001b[0m \u001b[0mwrap\u001b[0m \u001b[0;34m=\u001b[0m \u001b[0m_makearray\u001b[0m\u001b[0;34m(\u001b[0m\u001b[0ma\u001b[0m\u001b[0;34m)\u001b[0m\u001b[0;34m\u001b[0m\u001b[0m\n\u001b[1;32m    516\u001b[0m     \u001b[0m_assertRankAtLeast2\u001b[0m\u001b[0;34m(\u001b[0m\u001b[0ma\u001b[0m\u001b[0;34m)\u001b[0m\u001b[0;34m\u001b[0m\u001b[0m\n\u001b[0;32m--> 517\u001b[0;31m     \u001b[0m_assertNdSquareness\u001b[0m\u001b[0;34m(\u001b[0m\u001b[0ma\u001b[0m\u001b[0;34m)\u001b[0m\u001b[0;34m\u001b[0m\u001b[0m\n\u001b[0m\u001b[1;32m    518\u001b[0m     \u001b[0mt\u001b[0m\u001b[0;34m,\u001b[0m \u001b[0mresult_t\u001b[0m \u001b[0;34m=\u001b[0m \u001b[0m_commonType\u001b[0m\u001b[0;34m(\u001b[0m\u001b[0ma\u001b[0m\u001b[0;34m)\u001b[0m\u001b[0;34m\u001b[0m\u001b[0m\n\u001b[1;32m    519\u001b[0m \u001b[0;34m\u001b[0m\u001b[0m\n",
      "\u001b[0;32m/Users/jan/Envs/skillable/lib/python2.7/site-packages/numpy/linalg/linalg.pyc\u001b[0m in \u001b[0;36m_assertNdSquareness\u001b[0;34m(*arrays)\u001b[0m\n\u001b[1;32m    209\u001b[0m \u001b[0;32mdef\u001b[0m \u001b[0m_assertNdSquareness\u001b[0m\u001b[0;34m(\u001b[0m\u001b[0;34m*\u001b[0m\u001b[0marrays\u001b[0m\u001b[0;34m)\u001b[0m\u001b[0;34m:\u001b[0m\u001b[0;34m\u001b[0m\u001b[0m\n\u001b[1;32m    210\u001b[0m     \u001b[0;32mfor\u001b[0m \u001b[0ma\u001b[0m \u001b[0;32min\u001b[0m \u001b[0marrays\u001b[0m\u001b[0;34m:\u001b[0m\u001b[0;34m\u001b[0m\u001b[0m\n\u001b[0;32m--> 211\u001b[0;31m         \u001b[0;32mif\u001b[0m \u001b[0mmax\u001b[0m\u001b[0;34m(\u001b[0m\u001b[0ma\u001b[0m\u001b[0;34m.\u001b[0m\u001b[0mshape\u001b[0m\u001b[0;34m[\u001b[0m\u001b[0;34m-\u001b[0m\u001b[0;36m2\u001b[0m\u001b[0;34m:\u001b[0m\u001b[0;34m]\u001b[0m\u001b[0;34m)\u001b[0m \u001b[0;34m!=\u001b[0m \u001b[0mmin\u001b[0m\u001b[0;34m(\u001b[0m\u001b[0ma\u001b[0m\u001b[0;34m.\u001b[0m\u001b[0mshape\u001b[0m\u001b[0;34m[\u001b[0m\u001b[0;34m-\u001b[0m\u001b[0;36m2\u001b[0m\u001b[0;34m:\u001b[0m\u001b[0;34m]\u001b[0m\u001b[0;34m)\u001b[0m\u001b[0;34m:\u001b[0m\u001b[0;34m\u001b[0m\u001b[0m\n\u001b[0m\u001b[1;32m    212\u001b[0m             \u001b[0;32mraise\u001b[0m \u001b[0mLinAlgError\u001b[0m\u001b[0;34m(\u001b[0m\u001b[0;34m'Last 2 dimensions of the array must be square'\u001b[0m\u001b[0;34m)\u001b[0m\u001b[0;34m\u001b[0m\u001b[0m\n\u001b[1;32m    213\u001b[0m \u001b[0;34m\u001b[0m\u001b[0m\n",
      "\u001b[0;31mKeyboardInterrupt\u001b[0m: "
     ]
    }
   ],
   "source": [
    "datasets = ['wine', 'iris', 'olivetti', 'vowel']\n",
    "for dataset in datasets:\n",
    "    for covdiag in [True,False]:\n",
    "        print 'Output for dataset %s with covdiag=%s' % (dataset, covdiag)\n",
    "        testClassifier(dataset=dataset, covdiag=covdiag)"
   ]
  },
  {
   "cell_type": "markdown",
   "metadata": {},
   "source": [
    "So, the results are for each dataset with the covdiag: \n",
    "\n",
    "Wine - **Covdiag**: 40.7 **!Covdiag**: 35.3 \n",
    "\n",
    "Iris - **Covdiag**: 88.0 **!Covdiag**: 94.3 \n",
    "\n",
    "Olivetti - **Covdiag**: 9.1 **!Covdiag**: 3.3 \n",
    "\n",
    "Vowel - **Covdiag**: 55.0 **!Covdiag**: 75.4 \n",
    "\n",
    "The independence assumption has a small positive effect on the dataset Wine and Olivetti, while having a  effect on Iris and a large negative effect on Vowel. For the Vowel dataset, there are a lot of features that are correlated, such as the frequencies that appear in the sound. Also, for the Iris plants, certain features will appear together more often. For the Wine and Olivetti dataset, it is not reasonable to assume that the same features of different examples will be related to each other, as for the Wines, the place where its brewed at does not really influence the chemical properties of the wine and for the Olivetti dataset, all the faces have different lighting and different expressions. The independence assumption can thus be reasonable if the features of the examples do not rely heavily on the class/source. \n",
    "\n",
    "The standard deviation is higher with a diagonal covariance matrix. This means that the classification with the full covariance matrix is more robust, as it gets more consistent results. It is therefore less sensitive to changes in the training data\n"
   ]
  },
  {
   "cell_type": "markdown",
   "metadata": {},
   "source": [
    "# Testing the mlParams for a uniform weight vector"
   ]
  },
  {
   "cell_type": "code",
   "execution_count": 34,
   "metadata": {
    "collapsed": false
   },
   "outputs": [
    {
     "name": "stderr",
     "output_type": "stream",
     "text": [
      "/Users/jan/Envs/skillable/lib/python2.7/site-packages/matplotlib/collections.py:590: FutureWarning: elementwise comparison failed; returning scalar instead, but in the future will perform elementwise comparison\n",
      "  if self._edgecolors == str('face'):\n"
     ]
    },
    {
     "data": {
      "image/png": "[encoded data removed]",
      "text/plain": [
       "<matplotlib.figure.Figure at 0x10d09c150>"
      ]
     },
     "metadata": {},
     "output_type": "display_data"
    }
   ],
   "source": [
    "%matplotlib inline\n",
    "\n",
    "X, labels = genBlobs(centers=5)\n",
    "W = [1.0 / len(X)] * len(X)\n",
    "mu, sigma = mlParams(X,labels,W)\n",
    "plotGaussian(X,labels,mu,sigma)"
   ]
  },
  {
   "cell_type": "markdown",
   "metadata": {},
   "source": [
    "As we can see the classification gives the same output as without weights, meaning the mlParams method is correctly implemented."
   ]
  },
  {
   "cell_type": "markdown",
   "metadata": {},
   "source": [
    "## Boosting functions to implement\n",
    "\n",
    "The lab descriptions state what each function should do."
   ]
  },
  {
   "cell_type": "code",
   "execution_count": 56,
   "metadata": {
    "collapsed": false
   },
   "outputs": [],
   "source": [
    "# in:       X - N x d matrix of N data points\n",
    "#      labels - N x 1 vector of class labels\n",
    "#           T - number of boosting iterations\n",
    "# out: priors - length T list of prior as above\n",
    "#         mus - length T list of mu as above\n",
    "#      sigmas - length T list of sigma as above\n",
    "#      alphas - T x 1 vector of vote weights \n",
    "def trainBoost(X,labels,T=5,covdiag=True):\n",
    "    W = [1.0 / len(X)] * len(X)\n",
    "    priors = []; mus = [];  sigmas = []; alphas = []\n",
    "    for i in range(0, T):\n",
    "        priors.append(computePrior(labels,W))\n",
    "        mu, sigma = mlParams(X, labels, W)\n",
    "        mus.append(mu)\n",
    "        sigmas.append(sigma)\n",
    "        H = classify(X, priors[i], mus[i], sigmas[i], covdiag)\n",
    "        all_zipped = zip(W, H, labels)\n",
    "        error = sum([w for w, h, l in all_zipped if h != l])\n",
    "#         print error\n",
    "        alpha = 0.5 * (np.log((1 - error) / (0.0001 if error == 0.0 else error)))\n",
    "        for j in range(0, len(all_zipped)):\n",
    "            weight_update = (np.exp(-alpha) if all_zipped[j][1] == all_zipped[j][2] else np.exp(alpha))\n",
    "            W[j] = all_zipped[j][0] * weight_update\n",
    "#         print weight_update\n",
    "        alphas.append(alpha)\n",
    "        W = np.true_divide(W, sum(W))\n",
    "        \n",
    "    return priors, mus, sigmas, alphas\n",
    "\n",
    "# in:       X - N x d matrix of N data points\n",
    "#      priors - length T list of prior as above\n",
    "#         mus - length T list of mu as above\n",
    "#      sigmas - length T list of sigma as above\n",
    "#      alphas - T x 1 vector of vote weights\n",
    "# out:  yPred - N x 1 class predictions for test points\n",
    "def classifyBoost(X,priors,mus,sigmas,alphas,covdiag=True):\n",
    "    # Your code here\n",
    "    c = []\n",
    "    print len(X)\n",
    "    classifications = [classify(X, priors[i], mus[i], sigmas[i]) for i in range(0, len(priors))]\n",
    "    class_array = np.array(classifications).transpose()\n",
    "#     print class_array.shape\n",
    "    for i in range(len(class_array)):\n",
    "#         print len(class_array[i,:])\n",
    "        weights = collections.defaultdict(float)\n",
    "        for j in range(0, len(class_array[i,:])):\n",
    "            weights[class_array[i,j]] += alphas[j]\n",
    "        c.append(\n",
    "            max(weights, key=weights.get)\n",
    "        )\n",
    "    print len(c)\n",
    "    return c"
   ]
  },
  {
   "cell_type": "markdown",
   "metadata": {},
   "source": [
    "# Testing our boosting function"
   ]
  },
  {
   "cell_type": "code",
   "execution_count": 30,
   "metadata": {
    "collapsed": false
   },
   "outputs": [
    {
     "name": "stderr",
     "output_type": "stream",
     "text": [
      "/Users/jan/Envs/skillable/lib/python2.7/site-packages/ipykernel/__main__.py:27: DeprecationWarning: using a non-integer number instead of an integer will result in an error in the future\n",
      "/Users/jan/Envs/skillable/lib/python2.7/site-packages/ipykernel/__main__.py:34: DeprecationWarning: using a non-integer number instead of an integer will result in an error in the future\n",
      "/Users/jan/Envs/skillable/lib/python2.7/site-packages/ipykernel/__main__.py:35: DeprecationWarning: using a non-integer number instead of an integer will result in an error in the future\n",
      "/Users/jan/Envs/skillable/lib/python2.7/site-packages/ipykernel/__main__.py:5: FutureWarning: comparison to `None` will result in an elementwise object comparison in the future.\n"
     ]
    },
    {
     "name": "stdout",
     "output_type": "stream",
     "text": [
      "Output for dataset olivetti with covdiag=True\n",
      "Final mean classification accuracy  7.24166666667 with standard deviation 1.65703466738\n",
      "Output for dataset olivetti with covdiag=False\n"
     ]
    },
    {
     "name": "stderr",
     "output_type": "stream",
     "text": [
      "/Users/jan/Envs/skillable/lib/python2.7/site-packages/ipykernel/__main__.py:23: FutureWarning: comparison to `None` will result in an elementwise object comparison in the future.\n"
     ]
    },
    {
     "ename": "KeyboardInterrupt",
     "evalue": "",
     "output_type": "error",
     "traceback": [
      "\u001b[0;31m---------------------------------------------------------------------------\u001b[0m",
      "\u001b[0;31mKeyboardInterrupt\u001b[0m                         Traceback (most recent call last)",
      "\u001b[0;32m<ipython-input-30-4c0b3533d010>\u001b[0m in \u001b[0;36m<module>\u001b[0;34m()\u001b[0m\n\u001b[1;32m      3\u001b[0m     \u001b[0;32mfor\u001b[0m \u001b[0mcovdiag\u001b[0m \u001b[0;32min\u001b[0m \u001b[0;34m[\u001b[0m\u001b[0mTrue\u001b[0m\u001b[0;34m,\u001b[0m \u001b[0mFalse\u001b[0m\u001b[0;34m]\u001b[0m\u001b[0;34m:\u001b[0m\u001b[0;34m\u001b[0m\u001b[0m\n\u001b[1;32m      4\u001b[0m         \u001b[0;32mprint\u001b[0m \u001b[0;34m'Output for dataset %s with covdiag=%s'\u001b[0m \u001b[0;34m%\u001b[0m \u001b[0;34m(\u001b[0m\u001b[0mdataset\u001b[0m\u001b[0;34m,\u001b[0m \u001b[0mcovdiag\u001b[0m\u001b[0;34m)\u001b[0m\u001b[0;34m\u001b[0m\u001b[0m\n\u001b[0;32m----> 5\u001b[0;31m         \u001b[0mtestClassifier\u001b[0m\u001b[0;34m(\u001b[0m\u001b[0mdataset\u001b[0m\u001b[0;34m=\u001b[0m\u001b[0mdataset\u001b[0m\u001b[0;34m,\u001b[0m \u001b[0mcovdiag\u001b[0m\u001b[0;34m=\u001b[0m\u001b[0mcovdiag\u001b[0m\u001b[0;34m,\u001b[0m \u001b[0mdoboost\u001b[0m\u001b[0;34m=\u001b[0m\u001b[0mTrue\u001b[0m\u001b[0;34m)\u001b[0m\u001b[0;34m\u001b[0m\u001b[0m\n\u001b[0m",
      "\u001b[0;32m<ipython-input-18-6f6ae845d8af>\u001b[0m in \u001b[0;36mtestClassifier\u001b[0;34m(dataset, dim, split, doboost, boostiter, covdiag, ntrials)\u001b[0m\n\u001b[1;32m     27\u001b[0m             \u001b[0;31m# Compute params\u001b[0m\u001b[0;34m\u001b[0m\u001b[0;34m\u001b[0m\u001b[0m\n\u001b[1;32m     28\u001b[0m             \u001b[0mpriors\u001b[0m\u001b[0;34m,\u001b[0m\u001b[0mmus\u001b[0m\u001b[0;34m,\u001b[0m\u001b[0msigmas\u001b[0m\u001b[0;34m,\u001b[0m\u001b[0malphas\u001b[0m \u001b[0;34m=\u001b[0m \u001b[0mtrainBoost\u001b[0m\u001b[0;34m(\u001b[0m\u001b[0mxTr\u001b[0m\u001b[0;34m,\u001b[0m\u001b[0myTr\u001b[0m\u001b[0;34m,\u001b[0m\u001b[0mT\u001b[0m\u001b[0;34m=\u001b[0m\u001b[0mboostiter\u001b[0m\u001b[0;34m,\u001b[0m\u001b[0mcovdiag\u001b[0m\u001b[0;34m=\u001b[0m\u001b[0mcovdiag\u001b[0m\u001b[0;34m)\u001b[0m\u001b[0;34m\u001b[0m\u001b[0m\n\u001b[0;32m---> 29\u001b[0;31m             \u001b[0myPr\u001b[0m \u001b[0;34m=\u001b[0m \u001b[0mclassifyBoost\u001b[0m\u001b[0;34m(\u001b[0m\u001b[0mxTe\u001b[0m\u001b[0;34m,\u001b[0m\u001b[0mpriors\u001b[0m\u001b[0;34m,\u001b[0m\u001b[0mmus\u001b[0m\u001b[0;34m,\u001b[0m\u001b[0msigmas\u001b[0m\u001b[0;34m,\u001b[0m\u001b[0malphas\u001b[0m\u001b[0;34m)\u001b[0m\u001b[0;34m\u001b[0m\u001b[0m\n\u001b[0m\u001b[1;32m     30\u001b[0m         \u001b[0;32melse\u001b[0m\u001b[0;34m:\u001b[0m\u001b[0;34m\u001b[0m\u001b[0m\n\u001b[1;32m     31\u001b[0m         \u001b[0;31m## Simple\u001b[0m\u001b[0;34m\u001b[0m\u001b[0;34m\u001b[0m\u001b[0m\n",
      "\u001b[0;32m<ipython-input-29-dca407c08eb6>\u001b[0m in \u001b[0;36mclassifyBoost\u001b[0;34m(X, priors, mus, sigmas, alphas, covdiag)\u001b[0m\n\u001b[1;32m     37\u001b[0m     \u001b[0;31m# Your code here\u001b[0m\u001b[0;34m\u001b[0m\u001b[0;34m\u001b[0m\u001b[0m\n\u001b[1;32m     38\u001b[0m     \u001b[0mc\u001b[0m \u001b[0;34m=\u001b[0m \u001b[0;34m[\u001b[0m\u001b[0;34m]\u001b[0m\u001b[0;34m\u001b[0m\u001b[0m\n\u001b[0;32m---> 39\u001b[0;31m     \u001b[0mclassifications\u001b[0m \u001b[0;34m=\u001b[0m \u001b[0;34m[\u001b[0m\u001b[0mclassify\u001b[0m\u001b[0;34m(\u001b[0m\u001b[0mX\u001b[0m\u001b[0;34m,\u001b[0m \u001b[0mpriors\u001b[0m\u001b[0;34m[\u001b[0m\u001b[0mi\u001b[0m\u001b[0;34m]\u001b[0m\u001b[0;34m,\u001b[0m \u001b[0mmus\u001b[0m\u001b[0;34m[\u001b[0m\u001b[0mi\u001b[0m\u001b[0;34m]\u001b[0m\u001b[0;34m,\u001b[0m \u001b[0msigmas\u001b[0m\u001b[0;34m[\u001b[0m\u001b[0mi\u001b[0m\u001b[0;34m]\u001b[0m\u001b[0;34m)\u001b[0m \u001b[0;32mfor\u001b[0m \u001b[0mi\u001b[0m \u001b[0;32min\u001b[0m \u001b[0mrange\u001b[0m\u001b[0;34m(\u001b[0m\u001b[0;36m0\u001b[0m\u001b[0;34m,\u001b[0m \u001b[0mlen\u001b[0m\u001b[0;34m(\u001b[0m\u001b[0mpriors\u001b[0m\u001b[0;34m)\u001b[0m\u001b[0;34m)\u001b[0m\u001b[0;34m]\u001b[0m\u001b[0;34m\u001b[0m\u001b[0m\n\u001b[0m\u001b[1;32m     40\u001b[0m     \u001b[0mclass_array\u001b[0m \u001b[0;34m=\u001b[0m \u001b[0mnp\u001b[0m\u001b[0;34m.\u001b[0m\u001b[0marray\u001b[0m\u001b[0;34m(\u001b[0m\u001b[0mclassifications\u001b[0m\u001b[0;34m)\u001b[0m\u001b[0;34m.\u001b[0m\u001b[0mtranspose\u001b[0m\u001b[0;34m(\u001b[0m\u001b[0;34m)\u001b[0m\u001b[0;34m\u001b[0m\u001b[0m\n\u001b[1;32m     41\u001b[0m \u001b[0;31m#     print class_array.shape\u001b[0m\u001b[0;34m\u001b[0m\u001b[0;34m\u001b[0m\u001b[0m\n",
      "\u001b[0;32m<ipython-input-5-b54a55fd6638>\u001b[0m in \u001b[0;36mclassify\u001b[0;34m(X, prior, mu, sigma, covdiag)\u001b[0m\n\u001b[1;32m     87\u001b[0m             \u001b[0;32mif\u001b[0m \u001b[0mcovdiag\u001b[0m\u001b[0;34m:\u001b[0m\u001b[0;34m\u001b[0m\u001b[0m\n\u001b[1;32m     88\u001b[0m                 \u001b[0mS_k\u001b[0m \u001b[0;34m=\u001b[0m \u001b[0mnp\u001b[0m\u001b[0;34m.\u001b[0m\u001b[0mdiag\u001b[0m\u001b[0;34m(\u001b[0m\u001b[0mnp\u001b[0m\u001b[0;34m.\u001b[0m\u001b[0mdiag\u001b[0m\u001b[0;34m(\u001b[0m\u001b[0mS_k\u001b[0m\u001b[0;34m)\u001b[0m\u001b[0;34m)\u001b[0m\u001b[0;34m\u001b[0m\u001b[0m\n\u001b[0;32m---> 89\u001b[0;31m                 \u001b[0minverse\u001b[0m \u001b[0;34m=\u001b[0m \u001b[0mnp\u001b[0m\u001b[0;34m.\u001b[0m\u001b[0mlinalg\u001b[0m\u001b[0;34m.\u001b[0m\u001b[0minv\u001b[0m\u001b[0;34m(\u001b[0m\u001b[0mS_k\u001b[0m\u001b[0;34m)\u001b[0m\u001b[0;34m\u001b[0m\u001b[0m\n\u001b[0m\u001b[1;32m     90\u001b[0m                 \u001b[0minner\u001b[0m \u001b[0;34m=\u001b[0m \u001b[0mnp\u001b[0m\u001b[0;34m.\u001b[0m\u001b[0minner\u001b[0m\u001b[0;34m(\u001b[0m\u001b[0mxu\u001b[0m\u001b[0;34m,\u001b[0m \u001b[0minverse\u001b[0m\u001b[0;34m)\u001b[0m\u001b[0;34m\u001b[0m\u001b[0m\n\u001b[1;32m     91\u001b[0m                 \u001b[0msecond\u001b[0m \u001b[0;34m=\u001b[0m \u001b[0mnp\u001b[0m\u001b[0;34m.\u001b[0m\u001b[0minner\u001b[0m\u001b[0;34m(\u001b[0m\u001b[0mnp\u001b[0m\u001b[0;34m.\u001b[0m\u001b[0minner\u001b[0m\u001b[0;34m(\u001b[0m\u001b[0mxu\u001b[0m\u001b[0;34m,\u001b[0m \u001b[0minverse\u001b[0m\u001b[0;34m)\u001b[0m \u001b[0;34m,\u001b[0m\u001b[0mxu\u001b[0m\u001b[0;34m)\u001b[0m\u001b[0;34m\u001b[0m\u001b[0m\n",
      "\u001b[0;31mKeyboardInterrupt\u001b[0m: "
     ]
    }
   ],
   "source": [
    "datasets = ['olivetti', 'iris', 'olivetti', 'vowel']\n",
    "for dataset in datasets:\n",
    "    for covdiag in [True, False]:\n",
    "        print 'Output for dataset %s with covdiag=%s' % (dataset, covdiag)\n",
    "        testClassifier(dataset=dataset, covdiag=covdiag, doboost=True)"
   ]
  },
  {
   "cell_type": "code",
   "execution_count": 18,
   "metadata": {
    "collapsed": false
   },
   "outputs": [],
   "source": [
    "np.set_printoptions(threshold=np.nan)\n",
    "np.set_printoptions(precision=25)\n",
    "np.set_printoptions(linewidth=200)\n",
    "\n",
    "def testClassifier(dataset='iris',dim=0,split=0.7,doboost=False,boostiter=5,covdiag=True,ntrials=100):\n",
    "\n",
    "    X,y,pcadim = fetchDataset(dataset)\n",
    "\n",
    "    means = np.zeros(ntrials,);\n",
    "\n",
    "    for trial in range(ntrials):\n",
    "\n",
    "        # xTr,yTr,xTe,yTe,trIdx,teIdx = trteSplit(X,y,split)\n",
    "        xTr,yTr,xTe,yTe,trIdx,teIdx = trteSplitEven(X,y,split)\n",
    "\n",
    "        # Do PCA replace default value if user provides it \n",
    "        if dim > 0:\n",
    "            pcadim = dim\n",
    "        if pcadim > 0:     \n",
    "            pca = decomposition.PCA(n_components=pcadim)\n",
    "            pca.fit(xTr)\n",
    "            xTr = pca.transform(xTr)\n",
    "            xTe = pca.transform(xTe)     \n",
    "\n",
    "        ## Boosting  \n",
    "        if doboost:\n",
    "            # Compute params\n",
    "            priors,mus,sigmas,alphas = trainBoost(xTr,yTr,T=boostiter,covdiag=covdiag)\n",
    "            yPr = classifyBoost(xTe,priors,mus,sigmas,alphas)        \n",
    "        else:\n",
    "        ## Simple\n",
    "            # Compute params\n",
    "            prior = computePrior(yTr)\n",
    "            mu, sigma = mlParams(xTr,yTr)\n",
    "            # Predict\n",
    "            yPr = classify(xTe,prior,mu,sigma,covdiag=covdiag)\n",
    "\n",
    "        # Compute classification error\n",
    "#         print \"Trial:\",trial,\"Accuracy\",100*np.mean((yPr==yTe).astype(float))\n",
    "\n",
    "        means[trial] = 100*np.mean((yPr==yTe).astype(float))\n",
    "\n",
    "    print \"Final mean classification accuracy \", np.mean(means), \"with standard deviation\", np.std(means)\n"
   ]
  },
  {
   "cell_type": "markdown",
   "metadata": {},
   "source": [
    "## Plotting the decision boundary\n",
    "\n",
    "This is some code that you can use for plotting the decision boundary\n",
    "boundary in the last part of the lab."
   ]
  },
  {
   "cell_type": "code",
   "execution_count": 32,
   "metadata": {
    "collapsed": true
   },
   "outputs": [],
   "source": [
    "def plotBoundary(dataset='iris',split=0.7,doboost=False,boostiter=5,covdiag=True):\n",
    "    \n",
    "    X,y,pcadim = fetchDataset(dataset)\n",
    "    xTr,yTr,xTe,yTe,trIdx,teIdx = trteSplitEven(X,y,split)\n",
    "    pca = decomposition.PCA(n_components=2)\n",
    "    pca.fit(xTr)\n",
    "    xTr = pca.transform(xTr)\n",
    "    xTe = pca.transform(xTe)\n",
    "    \n",
    "    pX = np.vstack((xTr, xTe))\n",
    "    py = np.hstack((yTr, yTe))\n",
    "     \n",
    "    if doboost:\n",
    "        ## Boosting\n",
    "        # Compute params\n",
    "        priors,mus,sigmas,alphas = trainBoost(xTr,yTr,T=boostiter,covdiag=covdiag)       \n",
    "    else:\n",
    "        ## Simple\n",
    "        # Compute params\n",
    "        prior = computePrior(yTr)\n",
    "        mu, sigma = mlParams(xTr,yTr)\n",
    "\n",
    "    xRange = np.arange(np.min(pX[:,0]),np.max(pX[:,0]),np.abs(np.max(pX[:,0])-np.min(pX[:,0]))/100.0)\n",
    "    yRange = np.arange(np.min(pX[:,1]),np.max(pX[:,1]),np.abs(np.max(pX[:,1])-np.min(pX[:,1]))/100.0)\n",
    "\n",
    "    grid = np.zeros((yRange.size, xRange.size))\n",
    "    \n",
    "    for (xi, xx) in enumerate(xRange):\n",
    "        for (yi, yy) in enumerate(yRange):\n",
    "            if doboost:\n",
    "                ## Boosting \n",
    "                grid[yi,xi] = classifyBoost(np.matrix([[xx, yy]]),priors,mus,sigmas,alphas,covdiag=covdiag)        \n",
    "            else:\n",
    "                ## Simple\n",
    "                grid[yi,xi] = classify(np.matrix([[xx, yy]]),prior,mu,sigma,covdiag=covdiag)\n",
    "    \n",
    "    classes = range(np.min(y), np.max(y)+1)\n",
    "    ys = [i+xx+(i*xx)**2 for i in range(len(classes))]\n",
    "    colormap = cm.rainbow(np.linspace(0, 1, len(ys)))\n",
    "\n",
    "    plt.hold(True)\n",
    "    conv = ColorConverter()\n",
    "    for (color, c) in zip(colormap, classes):\n",
    "        try:\n",
    "            CS = plt.contour(xRange,yRange,(grid==c).astype(float),15,linewidths=0.25,colors=conv.to_rgba_array(color))\n",
    "        except ValueError:\n",
    "            pass\n",
    "        xc = pX[py == c, :]\n",
    "        plt.scatter(xc[:,0],xc[:,1],marker='o',c=color,s=40,alpha=0.5)\n",
    "        \n",
    "    plt.xlim(np.min(pX[:,0]),np.max(pX[:,0]))\n",
    "    plt.ylim(np.min(pX[:,1]),np.max(pX[:,1]))\n",
    "    plt.show()"
   ]
  },
  {
   "cell_type": "markdown",
   "metadata": {},
   "source": [
    "## Run some experiments\n",
    "\n",
    "Call the `testClassifier` and `plotBoundary` functions for this part."
   ]
  },
  {
   "cell_type": "code",
   "execution_count": 59,
   "metadata": {
    "collapsed": false
   },
   "outputs": [
    {
     "name": "stdout",
     "output_type": "stream",
     "text": [
      "Final mean classification accuracy  41.8301886792 with standard deviation 2.7349380396\n"
     ]
    },
    {
     "name": "stderr",
     "output_type": "stream",
     "text": [
      "/Users/jan/Envs/skillable/lib/python2.7/site-packages/ipykernel/__main__.py:46: DeprecationWarning: using a non-integer number instead of an integer will result in an error in the future\n",
      "/Users/jan/Envs/skillable/lib/python2.7/site-packages/ipykernel/__main__.py:52: DeprecationWarning: using a non-integer number instead of an integer will result in an error in the future\n",
      "/Users/jan/Envs/skillable/lib/python2.7/site-packages/ipykernel/__main__.py:55: DeprecationWarning: using a non-integer number instead of an integer will result in an error in the future\n"
     ]
    },
    {
     "data": {
      "image/png": "[encoded data removed]",
      "text/plain": [
       "<matplotlib.figure.Figure at 0x10a72c590>"
      ]
     },
     "metadata": {},
     "output_type": "display_data"
    }
   ],
   "source": [
    "%matplotlib inline\n",
    "\n",
    "# Example usage of the functions\n",
    "\n",
    "testClassifier(dataset='wine',split=0.7,doboost=False,boostiter=5,covdiag=True)\n",
    "\n",
    "plotBoundary(dataset='wine',split=0.7,doboost=False,boostiter=5,covdiag=True)"
   ]
  },
  {
   "cell_type": "code",
   "execution_count": null,
   "metadata": {
    "collapsed": true
   },
   "outputs": [],
   "source": []
  }
 ],
 "metadata": {
  "kernelspec": {
   "display_name": "Python 2",
   "language": "python",
   "name": "python2"
  },
  "language_info": {
   "codemirror_mode": {
    "name": "ipython",
    "version": 2
   },
   "file_extension": ".py",
   "mimetype": "text/x-python",
   "name": "python",
   "nbconvert_exporter": "python",
   "pygments_lexer": "ipython2",
   "version": "2.7.10"
  }
 },
 "nbformat": 4,
 "nbformat_minor": 0
}
